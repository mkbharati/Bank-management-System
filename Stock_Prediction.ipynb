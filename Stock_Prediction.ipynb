{
  "nbformat": 4,
  "nbformat_minor": 0,
  "metadata": {
    "colab": {
      "name": "Stock_Prediction.ipynb",
      "provenance": [],
      "mount_file_id": "1_miLE1nyYOA4AQCHjxO3ZVwJ8Uc01u3-",
      "authorship_tag": "ABX9TyM3goqKNhMNSPj1t2O+GCkW",
      "include_colab_link": true
    },
    "kernelspec": {
      "name": "python3",
      "display_name": "Python 3"
    },
    "language_info": {
      "name": "python"
    }
  },
  "cells": [
    {
      "cell_type": "markdown",
      "metadata": {
        "id": "view-in-github",
        "colab_type": "text"
      },
      "source": [
        "<a href=\"https://colab.research.google.com/github/mkbharati/Bank-management-System/blob/master/Stock_Prediction.ipynb\" target=\"_parent\"><img src=\"https://colab.research.google.com/assets/colab-badge.svg\" alt=\"Open In Colab\"/></a>"
      ]
    },
    {
      "cell_type": "markdown",
      "source": [
        "### Importing Libraries"
      ],
      "metadata": {
        "id": "EsvtefcwLRxm"
      }
    },
    {
      "cell_type": "code",
      "execution_count": null,
      "metadata": {
        "id": "N-R3wfozJBep"
      },
      "outputs": [],
      "source": [
        "import pandas as pd\n",
        "import numpy as np\n",
        "import matplotlib.pyplot as plt\n",
        "%matplotlib inline\n",
        "import datetime"
      ]
    },
    {
      "cell_type": "markdown",
      "source": [
        "### Importing Data"
      ],
      "metadata": {
        "id": "C6Q0M1tKLh0Q"
      }
    },
    {
      "cell_type": "code",
      "source": [
        "stock_price = pd.read_excel(\"/content/drive/MyDrive/Minor_Project/1613615-Stock_Price_data_set.xlsx\")\n",
        "stock_price.head()"
      ],
      "metadata": {
        "colab": {
          "base_uri": "https://localhost:8080/",
          "height": 206
        },
        "id": "w_bI6aprKVBA",
        "outputId": "1313c3fb-d9eb-4f34-e8b5-8ce8113d9c1c"
      },
      "execution_count": null,
      "outputs": [
        {
          "output_type": "execute_result",
          "data": {
            "text/plain": [
              "        Date        Open        High         Low       Close   Adj Close  \\\n",
              "0 2018-02-05  262.000000  267.899994  250.029999  254.259995  254.259995   \n",
              "1 2018-02-06  247.699997  266.700012  245.000000  265.720001  265.720001   \n",
              "2 2018-02-07  266.579987  272.450012  264.329987  264.559998  264.559998   \n",
              "3 2018-02-08  267.079987  267.619995  250.000000  250.100006  250.100006   \n",
              "4 2018-02-09  253.850006  255.800003  236.110001  249.470001  249.470001   \n",
              "\n",
              "       Volume  \n",
              "0  11896100.0  \n",
              "1  12595800.0  \n",
              "2   8981500.0  \n",
              "3   9306700.0  \n",
              "4  16906900.0  "
            ],
            "text/html": [
              "\n",
              "  <div id=\"df-710d28bf-3d2b-4100-a86e-450f83d454f3\">\n",
              "    <div class=\"colab-df-container\">\n",
              "      <div>\n",
              "<style scoped>\n",
              "    .dataframe tbody tr th:only-of-type {\n",
              "        vertical-align: middle;\n",
              "    }\n",
              "\n",
              "    .dataframe tbody tr th {\n",
              "        vertical-align: top;\n",
              "    }\n",
              "\n",
              "    .dataframe thead th {\n",
              "        text-align: right;\n",
              "    }\n",
              "</style>\n",
              "<table border=\"1\" class=\"dataframe\">\n",
              "  <thead>\n",
              "    <tr style=\"text-align: right;\">\n",
              "      <th></th>\n",
              "      <th>Date</th>\n",
              "      <th>Open</th>\n",
              "      <th>High</th>\n",
              "      <th>Low</th>\n",
              "      <th>Close</th>\n",
              "      <th>Adj Close</th>\n",
              "      <th>Volume</th>\n",
              "    </tr>\n",
              "  </thead>\n",
              "  <tbody>\n",
              "    <tr>\n",
              "      <th>0</th>\n",
              "      <td>2018-02-05</td>\n",
              "      <td>262.000000</td>\n",
              "      <td>267.899994</td>\n",
              "      <td>250.029999</td>\n",
              "      <td>254.259995</td>\n",
              "      <td>254.259995</td>\n",
              "      <td>11896100.0</td>\n",
              "    </tr>\n",
              "    <tr>\n",
              "      <th>1</th>\n",
              "      <td>2018-02-06</td>\n",
              "      <td>247.699997</td>\n",
              "      <td>266.700012</td>\n",
              "      <td>245.000000</td>\n",
              "      <td>265.720001</td>\n",
              "      <td>265.720001</td>\n",
              "      <td>12595800.0</td>\n",
              "    </tr>\n",
              "    <tr>\n",
              "      <th>2</th>\n",
              "      <td>2018-02-07</td>\n",
              "      <td>266.579987</td>\n",
              "      <td>272.450012</td>\n",
              "      <td>264.329987</td>\n",
              "      <td>264.559998</td>\n",
              "      <td>264.559998</td>\n",
              "      <td>8981500.0</td>\n",
              "    </tr>\n",
              "    <tr>\n",
              "      <th>3</th>\n",
              "      <td>2018-02-08</td>\n",
              "      <td>267.079987</td>\n",
              "      <td>267.619995</td>\n",
              "      <td>250.000000</td>\n",
              "      <td>250.100006</td>\n",
              "      <td>250.100006</td>\n",
              "      <td>9306700.0</td>\n",
              "    </tr>\n",
              "    <tr>\n",
              "      <th>4</th>\n",
              "      <td>2018-02-09</td>\n",
              "      <td>253.850006</td>\n",
              "      <td>255.800003</td>\n",
              "      <td>236.110001</td>\n",
              "      <td>249.470001</td>\n",
              "      <td>249.470001</td>\n",
              "      <td>16906900.0</td>\n",
              "    </tr>\n",
              "  </tbody>\n",
              "</table>\n",
              "</div>\n",
              "      <button class=\"colab-df-convert\" onclick=\"convertToInteractive('df-710d28bf-3d2b-4100-a86e-450f83d454f3')\"\n",
              "              title=\"Convert this dataframe to an interactive table.\"\n",
              "              style=\"display:none;\">\n",
              "        \n",
              "  <svg xmlns=\"http://www.w3.org/2000/svg\" height=\"24px\"viewBox=\"0 0 24 24\"\n",
              "       width=\"24px\">\n",
              "    <path d=\"M0 0h24v24H0V0z\" fill=\"none\"/>\n",
              "    <path d=\"M18.56 5.44l.94 2.06.94-2.06 2.06-.94-2.06-.94-.94-2.06-.94 2.06-2.06.94zm-11 1L8.5 8.5l.94-2.06 2.06-.94-2.06-.94L8.5 2.5l-.94 2.06-2.06.94zm10 10l.94 2.06.94-2.06 2.06-.94-2.06-.94-.94-2.06-.94 2.06-2.06.94z\"/><path d=\"M17.41 7.96l-1.37-1.37c-.4-.4-.92-.59-1.43-.59-.52 0-1.04.2-1.43.59L10.3 9.45l-7.72 7.72c-.78.78-.78 2.05 0 2.83L4 21.41c.39.39.9.59 1.41.59.51 0 1.02-.2 1.41-.59l7.78-7.78 2.81-2.81c.8-.78.8-2.07 0-2.86zM5.41 20L4 18.59l7.72-7.72 1.47 1.35L5.41 20z\"/>\n",
              "  </svg>\n",
              "      </button>\n",
              "      \n",
              "  <style>\n",
              "    .colab-df-container {\n",
              "      display:flex;\n",
              "      flex-wrap:wrap;\n",
              "      gap: 12px;\n",
              "    }\n",
              "\n",
              "    .colab-df-convert {\n",
              "      background-color: #E8F0FE;\n",
              "      border: none;\n",
              "      border-radius: 50%;\n",
              "      cursor: pointer;\n",
              "      display: none;\n",
              "      fill: #1967D2;\n",
              "      height: 32px;\n",
              "      padding: 0 0 0 0;\n",
              "      width: 32px;\n",
              "    }\n",
              "\n",
              "    .colab-df-convert:hover {\n",
              "      background-color: #E2EBFA;\n",
              "      box-shadow: 0px 1px 2px rgba(60, 64, 67, 0.3), 0px 1px 3px 1px rgba(60, 64, 67, 0.15);\n",
              "      fill: #174EA6;\n",
              "    }\n",
              "\n",
              "    [theme=dark] .colab-df-convert {\n",
              "      background-color: #3B4455;\n",
              "      fill: #D2E3FC;\n",
              "    }\n",
              "\n",
              "    [theme=dark] .colab-df-convert:hover {\n",
              "      background-color: #434B5C;\n",
              "      box-shadow: 0px 1px 3px 1px rgba(0, 0, 0, 0.15);\n",
              "      filter: drop-shadow(0px 1px 2px rgba(0, 0, 0, 0.3));\n",
              "      fill: #FFFFFF;\n",
              "    }\n",
              "  </style>\n",
              "\n",
              "      <script>\n",
              "        const buttonEl =\n",
              "          document.querySelector('#df-710d28bf-3d2b-4100-a86e-450f83d454f3 button.colab-df-convert');\n",
              "        buttonEl.style.display =\n",
              "          google.colab.kernel.accessAllowed ? 'block' : 'none';\n",
              "\n",
              "        async function convertToInteractive(key) {\n",
              "          const element = document.querySelector('#df-710d28bf-3d2b-4100-a86e-450f83d454f3');\n",
              "          const dataTable =\n",
              "            await google.colab.kernel.invokeFunction('convertToInteractive',\n",
              "                                                     [key], {});\n",
              "          if (!dataTable) return;\n",
              "\n",
              "          const docLinkHtml = 'Like what you see? Visit the ' +\n",
              "            '<a target=\"_blank\" href=https://colab.research.google.com/notebooks/data_table.ipynb>data table notebook</a>'\n",
              "            + ' to learn more about interactive tables.';\n",
              "          element.innerHTML = '';\n",
              "          dataTable['output_type'] = 'display_data';\n",
              "          await google.colab.output.renderOutput(dataTable, element);\n",
              "          const docLink = document.createElement('div');\n",
              "          docLink.innerHTML = docLinkHtml;\n",
              "          element.appendChild(docLink);\n",
              "        }\n",
              "      </script>\n",
              "    </div>\n",
              "  </div>\n",
              "  "
            ]
          },
          "metadata": {},
          "execution_count": 44
        }
      ]
    },
    {
      "cell_type": "markdown",
      "source": [
        ""
      ],
      "metadata": {
        "id": "HIDtjd2tKidp"
      }
    },
    {
      "cell_type": "markdown",
      "source": [
        "### Exploring Data"
      ],
      "metadata": {
        "id": "H93Vrs_dLvgl"
      }
    },
    {
      "cell_type": "code",
      "source": [
        "stock_price.shape"
      ],
      "metadata": {
        "colab": {
          "base_uri": "https://localhost:8080/"
        },
        "id": "PdvsztB8Kkds",
        "outputId": "f49a7f10-d3c1-49b0-f86d-4c9204650fd3"
      },
      "execution_count": null,
      "outputs": [
        {
          "output_type": "execute_result",
          "data": {
            "text/plain": [
              "(1009, 7)"
            ]
          },
          "metadata": {},
          "execution_count": 45
        }
      ]
    },
    {
      "cell_type": "code",
      "source": [
        "stock_price.info()"
      ],
      "metadata": {
        "colab": {
          "base_uri": "https://localhost:8080/"
        },
        "id": "FPPGlq5kL489",
        "outputId": "48e07b5a-a7a6-46d5-9ecb-d68626d42e7f"
      },
      "execution_count": null,
      "outputs": [
        {
          "output_type": "stream",
          "name": "stdout",
          "text": [
            "<class 'pandas.core.frame.DataFrame'>\n",
            "RangeIndex: 1009 entries, 0 to 1008\n",
            "Data columns (total 7 columns):\n",
            " #   Column     Non-Null Count  Dtype         \n",
            "---  ------     --------------  -----         \n",
            " 0   Date       1009 non-null   datetime64[ns]\n",
            " 1   Open       1009 non-null   float64       \n",
            " 2   High       1009 non-null   float64       \n",
            " 3   Low        1009 non-null   float64       \n",
            " 4   Close      1009 non-null   float64       \n",
            " 5   Adj Close  1009 non-null   float64       \n",
            " 6   Volume     1009 non-null   float64       \n",
            "dtypes: datetime64[ns](1), float64(6)\n",
            "memory usage: 55.3 KB\n"
          ]
        }
      ]
    },
    {
      "cell_type": "code",
      "source": [
        "stock_price.describe()"
      ],
      "metadata": {
        "colab": {
          "base_uri": "https://localhost:8080/",
          "height": 300
        },
        "id": "-oXDDGZfL9jQ",
        "outputId": "395259b8-aa5b-4035-85aa-b155136b94f0"
      },
      "execution_count": null,
      "outputs": [
        {
          "output_type": "execute_result",
          "data": {
            "text/plain": [
              "              Open         High          Low        Close    Adj Close  \\\n",
              "count  1009.000000  1009.000000  1009.000000  1009.000000  1009.000000   \n",
              "mean    419.059673   425.320703   412.374044   419.000733   419.000733   \n",
              "std     108.537532   109.262960   107.555867   108.289999   108.289999   \n",
              "min     233.919998   250.649994   231.229996   233.880005   233.880005   \n",
              "25%     331.489990   336.299988   326.000000   331.619995   331.619995   \n",
              "50%     377.769989   383.010010   370.880005   378.670013   378.670013   \n",
              "75%     509.130005   515.630005   502.529999   509.079987   509.079987   \n",
              "max     692.349976   700.989990   686.090027   691.690002   691.690002   \n",
              "\n",
              "             Volume  \n",
              "count  1.009000e+03  \n",
              "mean   7.570685e+06  \n",
              "std    5.465535e+06  \n",
              "min    1.144000e+06  \n",
              "25%    4.091900e+06  \n",
              "50%    5.934500e+06  \n",
              "75%    9.322400e+06  \n",
              "max    5.890430e+07  "
            ],
            "text/html": [
              "\n",
              "  <div id=\"df-acb19927-7b9f-4db9-a52e-d65e76009b66\">\n",
              "    <div class=\"colab-df-container\">\n",
              "      <div>\n",
              "<style scoped>\n",
              "    .dataframe tbody tr th:only-of-type {\n",
              "        vertical-align: middle;\n",
              "    }\n",
              "\n",
              "    .dataframe tbody tr th {\n",
              "        vertical-align: top;\n",
              "    }\n",
              "\n",
              "    .dataframe thead th {\n",
              "        text-align: right;\n",
              "    }\n",
              "</style>\n",
              "<table border=\"1\" class=\"dataframe\">\n",
              "  <thead>\n",
              "    <tr style=\"text-align: right;\">\n",
              "      <th></th>\n",
              "      <th>Open</th>\n",
              "      <th>High</th>\n",
              "      <th>Low</th>\n",
              "      <th>Close</th>\n",
              "      <th>Adj Close</th>\n",
              "      <th>Volume</th>\n",
              "    </tr>\n",
              "  </thead>\n",
              "  <tbody>\n",
              "    <tr>\n",
              "      <th>count</th>\n",
              "      <td>1009.000000</td>\n",
              "      <td>1009.000000</td>\n",
              "      <td>1009.000000</td>\n",
              "      <td>1009.000000</td>\n",
              "      <td>1009.000000</td>\n",
              "      <td>1.009000e+03</td>\n",
              "    </tr>\n",
              "    <tr>\n",
              "      <th>mean</th>\n",
              "      <td>419.059673</td>\n",
              "      <td>425.320703</td>\n",
              "      <td>412.374044</td>\n",
              "      <td>419.000733</td>\n",
              "      <td>419.000733</td>\n",
              "      <td>7.570685e+06</td>\n",
              "    </tr>\n",
              "    <tr>\n",
              "      <th>std</th>\n",
              "      <td>108.537532</td>\n",
              "      <td>109.262960</td>\n",
              "      <td>107.555867</td>\n",
              "      <td>108.289999</td>\n",
              "      <td>108.289999</td>\n",
              "      <td>5.465535e+06</td>\n",
              "    </tr>\n",
              "    <tr>\n",
              "      <th>min</th>\n",
              "      <td>233.919998</td>\n",
              "      <td>250.649994</td>\n",
              "      <td>231.229996</td>\n",
              "      <td>233.880005</td>\n",
              "      <td>233.880005</td>\n",
              "      <td>1.144000e+06</td>\n",
              "    </tr>\n",
              "    <tr>\n",
              "      <th>25%</th>\n",
              "      <td>331.489990</td>\n",
              "      <td>336.299988</td>\n",
              "      <td>326.000000</td>\n",
              "      <td>331.619995</td>\n",
              "      <td>331.619995</td>\n",
              "      <td>4.091900e+06</td>\n",
              "    </tr>\n",
              "    <tr>\n",
              "      <th>50%</th>\n",
              "      <td>377.769989</td>\n",
              "      <td>383.010010</td>\n",
              "      <td>370.880005</td>\n",
              "      <td>378.670013</td>\n",
              "      <td>378.670013</td>\n",
              "      <td>5.934500e+06</td>\n",
              "    </tr>\n",
              "    <tr>\n",
              "      <th>75%</th>\n",
              "      <td>509.130005</td>\n",
              "      <td>515.630005</td>\n",
              "      <td>502.529999</td>\n",
              "      <td>509.079987</td>\n",
              "      <td>509.079987</td>\n",
              "      <td>9.322400e+06</td>\n",
              "    </tr>\n",
              "    <tr>\n",
              "      <th>max</th>\n",
              "      <td>692.349976</td>\n",
              "      <td>700.989990</td>\n",
              "      <td>686.090027</td>\n",
              "      <td>691.690002</td>\n",
              "      <td>691.690002</td>\n",
              "      <td>5.890430e+07</td>\n",
              "    </tr>\n",
              "  </tbody>\n",
              "</table>\n",
              "</div>\n",
              "      <button class=\"colab-df-convert\" onclick=\"convertToInteractive('df-acb19927-7b9f-4db9-a52e-d65e76009b66')\"\n",
              "              title=\"Convert this dataframe to an interactive table.\"\n",
              "              style=\"display:none;\">\n",
              "        \n",
              "  <svg xmlns=\"http://www.w3.org/2000/svg\" height=\"24px\"viewBox=\"0 0 24 24\"\n",
              "       width=\"24px\">\n",
              "    <path d=\"M0 0h24v24H0V0z\" fill=\"none\"/>\n",
              "    <path d=\"M18.56 5.44l.94 2.06.94-2.06 2.06-.94-2.06-.94-.94-2.06-.94 2.06-2.06.94zm-11 1L8.5 8.5l.94-2.06 2.06-.94-2.06-.94L8.5 2.5l-.94 2.06-2.06.94zm10 10l.94 2.06.94-2.06 2.06-.94-2.06-.94-.94-2.06-.94 2.06-2.06.94z\"/><path d=\"M17.41 7.96l-1.37-1.37c-.4-.4-.92-.59-1.43-.59-.52 0-1.04.2-1.43.59L10.3 9.45l-7.72 7.72c-.78.78-.78 2.05 0 2.83L4 21.41c.39.39.9.59 1.41.59.51 0 1.02-.2 1.41-.59l7.78-7.78 2.81-2.81c.8-.78.8-2.07 0-2.86zM5.41 20L4 18.59l7.72-7.72 1.47 1.35L5.41 20z\"/>\n",
              "  </svg>\n",
              "      </button>\n",
              "      \n",
              "  <style>\n",
              "    .colab-df-container {\n",
              "      display:flex;\n",
              "      flex-wrap:wrap;\n",
              "      gap: 12px;\n",
              "    }\n",
              "\n",
              "    .colab-df-convert {\n",
              "      background-color: #E8F0FE;\n",
              "      border: none;\n",
              "      border-radius: 50%;\n",
              "      cursor: pointer;\n",
              "      display: none;\n",
              "      fill: #1967D2;\n",
              "      height: 32px;\n",
              "      padding: 0 0 0 0;\n",
              "      width: 32px;\n",
              "    }\n",
              "\n",
              "    .colab-df-convert:hover {\n",
              "      background-color: #E2EBFA;\n",
              "      box-shadow: 0px 1px 2px rgba(60, 64, 67, 0.3), 0px 1px 3px 1px rgba(60, 64, 67, 0.15);\n",
              "      fill: #174EA6;\n",
              "    }\n",
              "\n",
              "    [theme=dark] .colab-df-convert {\n",
              "      background-color: #3B4455;\n",
              "      fill: #D2E3FC;\n",
              "    }\n",
              "\n",
              "    [theme=dark] .colab-df-convert:hover {\n",
              "      background-color: #434B5C;\n",
              "      box-shadow: 0px 1px 3px 1px rgba(0, 0, 0, 0.15);\n",
              "      filter: drop-shadow(0px 1px 2px rgba(0, 0, 0, 0.3));\n",
              "      fill: #FFFFFF;\n",
              "    }\n",
              "  </style>\n",
              "\n",
              "      <script>\n",
              "        const buttonEl =\n",
              "          document.querySelector('#df-acb19927-7b9f-4db9-a52e-d65e76009b66 button.colab-df-convert');\n",
              "        buttonEl.style.display =\n",
              "          google.colab.kernel.accessAllowed ? 'block' : 'none';\n",
              "\n",
              "        async function convertToInteractive(key) {\n",
              "          const element = document.querySelector('#df-acb19927-7b9f-4db9-a52e-d65e76009b66');\n",
              "          const dataTable =\n",
              "            await google.colab.kernel.invokeFunction('convertToInteractive',\n",
              "                                                     [key], {});\n",
              "          if (!dataTable) return;\n",
              "\n",
              "          const docLinkHtml = 'Like what you see? Visit the ' +\n",
              "            '<a target=\"_blank\" href=https://colab.research.google.com/notebooks/data_table.ipynb>data table notebook</a>'\n",
              "            + ' to learn more about interactive tables.';\n",
              "          element.innerHTML = '';\n",
              "          dataTable['output_type'] = 'display_data';\n",
              "          await google.colab.output.renderOutput(dataTable, element);\n",
              "          const docLink = document.createElement('div');\n",
              "          docLink.innerHTML = docLinkHtml;\n",
              "          element.appendChild(docLink);\n",
              "        }\n",
              "      </script>\n",
              "    </div>\n",
              "  </div>\n",
              "  "
            ]
          },
          "metadata": {},
          "execution_count": 47
        }
      ]
    },
    {
      "cell_type": "code",
      "source": [
        "stock_price.isna().any()"
      ],
      "metadata": {
        "colab": {
          "base_uri": "https://localhost:8080/"
        },
        "id": "_rFYUsuCMCDk",
        "outputId": "376bcc43-288d-49b5-bbec-b87064323d1a"
      },
      "execution_count": null,
      "outputs": [
        {
          "output_type": "execute_result",
          "data": {
            "text/plain": [
              "Date         False\n",
              "Open         False\n",
              "High         False\n",
              "Low          False\n",
              "Close        False\n",
              "Adj Close    False\n",
              "Volume       False\n",
              "dtype: bool"
            ]
          },
          "metadata": {},
          "execution_count": 48
        }
      ]
    },
    {
      "cell_type": "code",
      "source": [
        "stock_price.duplicated().sum()"
      ],
      "metadata": {
        "colab": {
          "base_uri": "https://localhost:8080/"
        },
        "id": "6q1bYMUKMdZT",
        "outputId": "3ccc1f26-8b72-493d-d0b8-0641c78d8651"
      },
      "execution_count": null,
      "outputs": [
        {
          "output_type": "execute_result",
          "data": {
            "text/plain": [
              "0"
            ]
          },
          "metadata": {},
          "execution_count": 49
        }
      ]
    },
    {
      "cell_type": "code",
      "source": [
        "stock_price.dtypes"
      ],
      "metadata": {
        "colab": {
          "base_uri": "https://localhost:8080/"
        },
        "id": "6A3OwrGIMjAU",
        "outputId": "a6367f12-15b0-4355-867f-08f0c1bbf914"
      },
      "execution_count": null,
      "outputs": [
        {
          "output_type": "execute_result",
          "data": {
            "text/plain": [
              "Date         datetime64[ns]\n",
              "Open                float64\n",
              "High                float64\n",
              "Low                 float64\n",
              "Close               float64\n",
              "Adj Close           float64\n",
              "Volume              float64\n",
              "dtype: object"
            ]
          },
          "metadata": {},
          "execution_count": 50
        }
      ]
    },
    {
      "cell_type": "markdown",
      "source": [
        "### Handling Outliers"
      ],
      "metadata": {
        "id": "Ffb8jD6EMvei"
      }
    },
    {
      "cell_type": "code",
      "source": [
        "plt.subplot(2,3,1)\n",
        "stock_price['Open'].plot(kind='box')\n",
        "\n",
        "plt.subplot(2,3,2)\n",
        "stock_price['High'].plot(kind='box')\n",
        "\n",
        "plt.subplot(2,3,3)\n",
        "stock_price['Low'].plot(kind='box')\n",
        "\n",
        "plt.subplot(2,3,4)\n",
        "stock_price['Close'].plot(kind='box')\n",
        "\n",
        "plt.subplot(2,3,5)\n",
        "stock_price['Adj Close'].plot(kind='box')\n",
        "\n",
        "plt.subplot(2,3,6)\n",
        "stock_price['Volume'].plot(kind='box')\n",
        "plt.tight_layout()"
      ],
      "metadata": {
        "colab": {
          "base_uri": "https://localhost:8080/",
          "height": 297
        },
        "id": "yOdmFgTUM3X-",
        "outputId": "01b15ca7-179b-4661-dc2c-2a34cebd99f5"
      },
      "execution_count": null,
      "outputs": [
        {
          "output_type": "display_data",
          "data": {
            "text/plain": [
              "<Figure size 432x288 with 6 Axes>"
            ],
            "image/png": "[encoded data removed]"
          },
          "metadata": {
            "needs_background": "light"
          }
        }
      ]
    },
    {
      "cell_type": "markdown",
      "source": [
        "### Handling Outliers in Volume"
      ],
      "metadata": {
        "id": "nZqth2zhNGJh"
      }
    },
    {
      "cell_type": "code",
      "source": [
        "def find_outliers_limit(col_name):\n",
        "    Q1, Q3 = stock_price[col_name].quantile([0.25,0.75])\n",
        "    IQR = Q3-Q1\n",
        "    low = Q1-(1.5*IQR)\n",
        "    high = Q3+(1.5*IQR)\n",
        "    return (high,low)\n",
        "high_vol, low_vol = find_outliers_limit('Volume')\n",
        "print('Volume: ','Upper_limit: ', high_vol)\n",
        "stock_price.loc[stock_price['Volume']>high_vol, 'Volume']=high_vol"
      ],
      "metadata": {
        "colab": {
          "base_uri": "https://localhost:8080/"
        },
        "id": "X1vIw-ixNOz1",
        "outputId": "7b0e6615-7f8e-44dc-b2f0-bf225ea1ef60"
      },
      "execution_count": null,
      "outputs": [
        {
          "output_type": "stream",
          "name": "stdout",
          "text": [
            "Volume:  Upper_limit:  17168150.0\n"
          ]
        }
      ]
    },
    {
      "cell_type": "code",
      "source": [
        "plt.subplot(2,3,1)\n",
        "stock_price['Open'].plot(kind='box')\n",
        "\n",
        "plt.subplot(2,3,2)\n",
        "stock_price['High'].plot(kind='box')\n",
        "\n",
        "plt.subplot(2,3,3)\n",
        "stock_price['Low'].plot(kind='box')\n",
        "\n",
        "plt.subplot(2,3,4)\n",
        "stock_price['Close'].plot(kind='box')\n",
        "\n",
        "plt.subplot(2,3,5)\n",
        "stock_price['Adj Close'].plot(kind='box')\n",
        "\n",
        "plt.subplot(2,3,6)\n",
        "stock_price['Volume'].plot(kind='box')\n",
        "\n",
        "plt.tight_layout()"
      ],
      "metadata": {
        "colab": {
          "base_uri": "https://localhost:8080/",
          "height": 297
        },
        "id": "vIQG1XfwNVku",
        "outputId": "f643cd35-8b91-4d6f-e7e2-6428c74a301e"
      },
      "execution_count": null,
      "outputs": [
        {
          "output_type": "display_data",
          "data": {
            "text/plain": [
              "<Figure size 432x288 with 6 Axes>"
            ],
            "image/png": "[encoded data removed]"
          },
          "metadata": {
            "needs_background": "light"
          }
        }
      ]
    },
    {
      "cell_type": "markdown",
      "source": [
        "### Data Visualisation\n"
      ],
      "metadata": {
        "id": "dDefyEUp5_46"
      }
    },
    {
      "cell_type": "code",
      "source": [
        "stock_price['month'] = stock_price['Date'].astype('string')\n",
        "stock_price['month']=stock_price['month'].apply(lambda x:x.split('-')[1])\n",
        "stock_price\n"
      ],
      "metadata": {
        "colab": {
          "base_uri": "https://localhost:8080/",
          "height": 424
        },
        "id": "3AD1uWYmNc_k",
        "outputId": "79f02ac9-ee91-4157-830c-60adeade0b4d"
      },
      "execution_count": null,
      "outputs": [
        {
          "output_type": "execute_result",
          "data": {
            "text/plain": [
              "           Date        Open        High         Low       Close   Adj Close  \\\n",
              "0    2018-02-05  262.000000  267.899994  250.029999  254.259995  254.259995   \n",
              "1    2018-02-06  247.699997  266.700012  245.000000  265.720001  265.720001   \n",
              "2    2018-02-07  266.579987  272.450012  264.329987  264.559998  264.559998   \n",
              "3    2018-02-08  267.079987  267.619995  250.000000  250.100006  250.100006   \n",
              "4    2018-02-09  253.850006  255.800003  236.110001  249.470001  249.470001   \n",
              "...         ...         ...         ...         ...         ...         ...   \n",
              "1004 2022-01-31  401.970001  427.700012  398.200012  427.140015  427.140015   \n",
              "1005 2022-02-01  432.959991  458.480011  425.540009  457.130005  457.130005   \n",
              "1006 2022-02-02  448.250000  451.980011  426.480011  429.480011  429.480011   \n",
              "1007 2022-02-03  421.440002  429.260010  404.279999  405.600006  405.600006   \n",
              "1008 2022-02-04  407.309998  412.769989  396.640015  410.170013  410.170013   \n",
              "\n",
              "          Volume month  \n",
              "0     11896100.0    02  \n",
              "1     12595800.0    02  \n",
              "2      8981500.0    02  \n",
              "3      9306700.0    02  \n",
              "4     16906900.0    02  \n",
              "...          ...   ...  \n",
              "1004  17168150.0    01  \n",
              "1005  17168150.0    02  \n",
              "1006  14346000.0    02  \n",
              "1007   9905200.0    02  \n",
              "1008   7782400.0    02  \n",
              "\n",
              "[1009 rows x 8 columns]"
            ],
            "text/html": [
              "\n",
              "  <div id=\"df-e8ea5952-72f8-4dac-8a38-f3e78a39987f\">\n",
              "    <div class=\"colab-df-container\">\n",
              "      <div>\n",
              "<style scoped>\n",
              "    .dataframe tbody tr th:only-of-type {\n",
              "        vertical-align: middle;\n",
              "    }\n",
              "\n",
              "    .dataframe tbody tr th {\n",
              "        vertical-align: top;\n",
              "    }\n",
              "\n",
              "    .dataframe thead th {\n",
              "        text-align: right;\n",
              "    }\n",
              "</style>\n",
              "<table border=\"1\" class=\"dataframe\">\n",
              "  <thead>\n",
              "    <tr style=\"text-align: right;\">\n",
              "      <th></th>\n",
              "      <th>Date</th>\n",
              "      <th>Open</th>\n",
              "      <th>High</th>\n",
              "      <th>Low</th>\n",
              "      <th>Close</th>\n",
              "      <th>Adj Close</th>\n",
              "      <th>Volume</th>\n",
              "      <th>month</th>\n",
              "    </tr>\n",
              "  </thead>\n",
              "  <tbody>\n",
              "    <tr>\n",
              "      <th>0</th>\n",
              "      <td>2018-02-05</td>\n",
              "      <td>262.000000</td>\n",
              "      <td>267.899994</td>\n",
              "      <td>250.029999</td>\n",
              "      <td>254.259995</td>\n",
              "      <td>254.259995</td>\n",
              "      <td>11896100.0</td>\n",
              "      <td>02</td>\n",
              "    </tr>\n",
              "    <tr>\n",
              "      <th>1</th>\n",
              "      <td>2018-02-06</td>\n",
              "      <td>247.699997</td>\n",
              "      <td>266.700012</td>\n",
              "      <td>245.000000</td>\n",
              "      <td>265.720001</td>\n",
              "      <td>265.720001</td>\n",
              "      <td>12595800.0</td>\n",
              "      <td>02</td>\n",
              "    </tr>\n",
              "    <tr>\n",
              "      <th>2</th>\n",
              "      <td>2018-02-07</td>\n",
              "      <td>266.579987</td>\n",
              "      <td>272.450012</td>\n",
              "      <td>264.329987</td>\n",
              "      <td>264.559998</td>\n",
              "      <td>264.559998</td>\n",
              "      <td>8981500.0</td>\n",
              "      <td>02</td>\n",
              "    </tr>\n",
              "    <tr>\n",
              "      <th>3</th>\n",
              "      <td>2018-02-08</td>\n",
              "      <td>267.079987</td>\n",
              "      <td>267.619995</td>\n",
              "      <td>250.000000</td>\n",
              "      <td>250.100006</td>\n",
              "      <td>250.100006</td>\n",
              "      <td>9306700.0</td>\n",
              "      <td>02</td>\n",
              "    </tr>\n",
              "    <tr>\n",
              "      <th>4</th>\n",
              "      <td>2018-02-09</td>\n",
              "      <td>253.850006</td>\n",
              "      <td>255.800003</td>\n",
              "      <td>236.110001</td>\n",
              "      <td>249.470001</td>\n",
              "      <td>249.470001</td>\n",
              "      <td>16906900.0</td>\n",
              "      <td>02</td>\n",
              "    </tr>\n",
              "    <tr>\n",
              "      <th>...</th>\n",
              "      <td>...</td>\n",
              "      <td>...</td>\n",
              "      <td>...</td>\n",
              "      <td>...</td>\n",
              "      <td>...</td>\n",
              "      <td>...</td>\n",
              "      <td>...</td>\n",
              "      <td>...</td>\n",
              "    </tr>\n",
              "    <tr>\n",
              "      <th>1004</th>\n",
              "      <td>2022-01-31</td>\n",
              "      <td>401.970001</td>\n",
              "      <td>427.700012</td>\n",
              "      <td>398.200012</td>\n",
              "      <td>427.140015</td>\n",
              "      <td>427.140015</td>\n",
              "      <td>17168150.0</td>\n",
              "      <td>01</td>\n",
              "    </tr>\n",
              "    <tr>\n",
              "      <th>1005</th>\n",
              "      <td>2022-02-01</td>\n",
              "      <td>432.959991</td>\n",
              "      <td>458.480011</td>\n",
              "      <td>425.540009</td>\n",
              "      <td>457.130005</td>\n",
              "      <td>457.130005</td>\n",
              "      <td>17168150.0</td>\n",
              "      <td>02</td>\n",
              "    </tr>\n",
              "    <tr>\n",
              "      <th>1006</th>\n",
              "      <td>2022-02-02</td>\n",
              "      <td>448.250000</td>\n",
              "      <td>451.980011</td>\n",
              "      <td>426.480011</td>\n",
              "      <td>429.480011</td>\n",
              "      <td>429.480011</td>\n",
              "      <td>14346000.0</td>\n",
              "      <td>02</td>\n",
              "    </tr>\n",
              "    <tr>\n",
              "      <th>1007</th>\n",
              "      <td>2022-02-03</td>\n",
              "      <td>421.440002</td>\n",
              "      <td>429.260010</td>\n",
              "      <td>404.279999</td>\n",
              "      <td>405.600006</td>\n",
              "      <td>405.600006</td>\n",
              "      <td>9905200.0</td>\n",
              "      <td>02</td>\n",
              "    </tr>\n",
              "    <tr>\n",
              "      <th>1008</th>\n",
              "      <td>2022-02-04</td>\n",
              "      <td>407.309998</td>\n",
              "      <td>412.769989</td>\n",
              "      <td>396.640015</td>\n",
              "      <td>410.170013</td>\n",
              "      <td>410.170013</td>\n",
              "      <td>7782400.0</td>\n",
              "      <td>02</td>\n",
              "    </tr>\n",
              "  </tbody>\n",
              "</table>\n",
              "<p>1009 rows × 8 columns</p>\n",
              "</div>\n",
              "      <button class=\"colab-df-convert\" onclick=\"convertToInteractive('df-e8ea5952-72f8-4dac-8a38-f3e78a39987f')\"\n",
              "              title=\"Convert this dataframe to an interactive table.\"\n",
              "              style=\"display:none;\">\n",
              "        \n",
              "  <svg xmlns=\"http://www.w3.org/2000/svg\" height=\"24px\"viewBox=\"0 0 24 24\"\n",
              "       width=\"24px\">\n",
              "    <path d=\"M0 0h24v24H0V0z\" fill=\"none\"/>\n",
              "    <path d=\"M18.56 5.44l.94 2.06.94-2.06 2.06-.94-2.06-.94-.94-2.06-.94 2.06-2.06.94zm-11 1L8.5 8.5l.94-2.06 2.06-.94-2.06-.94L8.5 2.5l-.94 2.06-2.06.94zm10 10l.94 2.06.94-2.06 2.06-.94-2.06-.94-.94-2.06-.94 2.06-2.06.94z\"/><path d=\"M17.41 7.96l-1.37-1.37c-.4-.4-.92-.59-1.43-.59-.52 0-1.04.2-1.43.59L10.3 9.45l-7.72 7.72c-.78.78-.78 2.05 0 2.83L4 21.41c.39.39.9.59 1.41.59.51 0 1.02-.2 1.41-.59l7.78-7.78 2.81-2.81c.8-.78.8-2.07 0-2.86zM5.41 20L4 18.59l7.72-7.72 1.47 1.35L5.41 20z\"/>\n",
              "  </svg>\n",
              "      </button>\n",
              "      \n",
              "  <style>\n",
              "    .colab-df-container {\n",
              "      display:flex;\n",
              "      flex-wrap:wrap;\n",
              "      gap: 12px;\n",
              "    }\n",
              "\n",
              "    .colab-df-convert {\n",
              "      background-color: #E8F0FE;\n",
              "      border: none;\n",
              "      border-radius: 50%;\n",
              "      cursor: pointer;\n",
              "      display: none;\n",
              "      fill: #1967D2;\n",
              "      height: 32px;\n",
              "      padding: 0 0 0 0;\n",
              "      width: 32px;\n",
              "    }\n",
              "\n",
              "    .colab-df-convert:hover {\n",
              "      background-color: #E2EBFA;\n",
              "      box-shadow: 0px 1px 2px rgba(60, 64, 67, 0.3), 0px 1px 3px 1px rgba(60, 64, 67, 0.15);\n",
              "      fill: #174EA6;\n",
              "    }\n",
              "\n",
              "    [theme=dark] .colab-df-convert {\n",
              "      background-color: #3B4455;\n",
              "      fill: #D2E3FC;\n",
              "    }\n",
              "\n",
              "    [theme=dark] .colab-df-convert:hover {\n",
              "      background-color: #434B5C;\n",
              "      box-shadow: 0px 1px 3px 1px rgba(0, 0, 0, 0.15);\n",
              "      filter: drop-shadow(0px 1px 2px rgba(0, 0, 0, 0.3));\n",
              "      fill: #FFFFFF;\n",
              "    }\n",
              "  </style>\n",
              "\n",
              "      <script>\n",
              "        const buttonEl =\n",
              "          document.querySelector('#df-e8ea5952-72f8-4dac-8a38-f3e78a39987f button.colab-df-convert');\n",
              "        buttonEl.style.display =\n",
              "          google.colab.kernel.accessAllowed ? 'block' : 'none';\n",
              "\n",
              "        async function convertToInteractive(key) {\n",
              "          const element = document.querySelector('#df-e8ea5952-72f8-4dac-8a38-f3e78a39987f');\n",
              "          const dataTable =\n",
              "            await google.colab.kernel.invokeFunction('convertToInteractive',\n",
              "                                                     [key], {});\n",
              "          if (!dataTable) return;\n",
              "\n",
              "          const docLinkHtml = 'Like what you see? Visit the ' +\n",
              "            '<a target=\"_blank\" href=https://colab.research.google.com/notebooks/data_table.ipynb>data table notebook</a>'\n",
              "            + ' to learn more about interactive tables.';\n",
              "          element.innerHTML = '';\n",
              "          dataTable['output_type'] = 'display_data';\n",
              "          await google.colab.output.renderOutput(dataTable, element);\n",
              "          const docLink = document.createElement('div');\n",
              "          docLink.innerHTML = docLinkHtml;\n",
              "          element.appendChild(docLink);\n",
              "        }\n",
              "      </script>\n",
              "    </div>\n",
              "  </div>\n",
              "  "
            ]
          },
          "metadata": {},
          "execution_count": 56
        }
      ]
    },
    {
      "cell_type": "code",
      "source": [
        "highlowmon = stock_price.groupby('month')[['Volume']].sum().sort_values('Volume',ascending=False).rename(columns={'Volume':'MonthlyQuantity'})\n",
        "highlowmon"
      ],
      "metadata": {
        "colab": {
          "base_uri": "https://localhost:8080/",
          "height": 457
        },
        "id": "_YmXVTCCRahG",
        "outputId": "99ec547b-8e52-40a9-b080-2024ddeb5140"
      },
      "execution_count": null,
      "outputs": [
        {
          "output_type": "execute_result",
          "data": {
            "text/plain": [
              "       MonthlyQuantity\n",
              "month                 \n",
              "10         782125400.0\n",
              "01         747454950.0\n",
              "04         725818850.0\n",
              "07         723275600.0\n",
              "03         690296750.0\n",
              "06         543325150.0\n",
              "09         540690350.0\n",
              "02         539145350.0\n",
              "11         527079600.0\n",
              "08         517738500.0\n",
              "12         492338550.0\n",
              "05         469332500.0"
            ],
            "text/html": [
              "\n",
              "  <div id=\"df-d40c93ce-9124-4fe7-b4fd-6e3cfd6cda9c\">\n",
              "    <div class=\"colab-df-container\">\n",
              "      <div>\n",
              "<style scoped>\n",
              "    .dataframe tbody tr th:only-of-type {\n",
              "        vertical-align: middle;\n",
              "    }\n",
              "\n",
              "    .dataframe tbody tr th {\n",
              "        vertical-align: top;\n",
              "    }\n",
              "\n",
              "    .dataframe thead th {\n",
              "        text-align: right;\n",
              "    }\n",
              "</style>\n",
              "<table border=\"1\" class=\"dataframe\">\n",
              "  <thead>\n",
              "    <tr style=\"text-align: right;\">\n",
              "      <th></th>\n",
              "      <th>MonthlyQuantity</th>\n",
              "    </tr>\n",
              "    <tr>\n",
              "      <th>month</th>\n",
              "      <th></th>\n",
              "    </tr>\n",
              "  </thead>\n",
              "  <tbody>\n",
              "    <tr>\n",
              "      <th>10</th>\n",
              "      <td>782125400.0</td>\n",
              "    </tr>\n",
              "    <tr>\n",
              "      <th>01</th>\n",
              "      <td>747454950.0</td>\n",
              "    </tr>\n",
              "    <tr>\n",
              "      <th>04</th>\n",
              "      <td>725818850.0</td>\n",
              "    </tr>\n",
              "    <tr>\n",
              "      <th>07</th>\n",
              "      <td>723275600.0</td>\n",
              "    </tr>\n",
              "    <tr>\n",
              "      <th>03</th>\n",
              "      <td>690296750.0</td>\n",
              "    </tr>\n",
              "    <tr>\n",
              "      <th>06</th>\n",
              "      <td>543325150.0</td>\n",
              "    </tr>\n",
              "    <tr>\n",
              "      <th>09</th>\n",
              "      <td>540690350.0</td>\n",
              "    </tr>\n",
              "    <tr>\n",
              "      <th>02</th>\n",
              "      <td>539145350.0</td>\n",
              "    </tr>\n",
              "    <tr>\n",
              "      <th>11</th>\n",
              "      <td>527079600.0</td>\n",
              "    </tr>\n",
              "    <tr>\n",
              "      <th>08</th>\n",
              "      <td>517738500.0</td>\n",
              "    </tr>\n",
              "    <tr>\n",
              "      <th>12</th>\n",
              "      <td>492338550.0</td>\n",
              "    </tr>\n",
              "    <tr>\n",
              "      <th>05</th>\n",
              "      <td>469332500.0</td>\n",
              "    </tr>\n",
              "  </tbody>\n",
              "</table>\n",
              "</div>\n",
              "      <button class=\"colab-df-convert\" onclick=\"convertToInteractive('df-d40c93ce-9124-4fe7-b4fd-6e3cfd6cda9c')\"\n",
              "              title=\"Convert this dataframe to an interactive table.\"\n",
              "              style=\"display:none;\">\n",
              "        \n",
              "  <svg xmlns=\"http://www.w3.org/2000/svg\" height=\"24px\"viewBox=\"0 0 24 24\"\n",
              "       width=\"24px\">\n",
              "    <path d=\"M0 0h24v24H0V0z\" fill=\"none\"/>\n",
              "    <path d=\"M18.56 5.44l.94 2.06.94-2.06 2.06-.94-2.06-.94-.94-2.06-.94 2.06-2.06.94zm-11 1L8.5 8.5l.94-2.06 2.06-.94-2.06-.94L8.5 2.5l-.94 2.06-2.06.94zm10 10l.94 2.06.94-2.06 2.06-.94-2.06-.94-.94-2.06-.94 2.06-2.06.94z\"/><path d=\"M17.41 7.96l-1.37-1.37c-.4-.4-.92-.59-1.43-.59-.52 0-1.04.2-1.43.59L10.3 9.45l-7.72 7.72c-.78.78-.78 2.05 0 2.83L4 21.41c.39.39.9.59 1.41.59.51 0 1.02-.2 1.41-.59l7.78-7.78 2.81-2.81c.8-.78.8-2.07 0-2.86zM5.41 20L4 18.59l7.72-7.72 1.47 1.35L5.41 20z\"/>\n",
              "  </svg>\n",
              "      </button>\n",
              "      \n",
              "  <style>\n",
              "    .colab-df-container {\n",
              "      display:flex;\n",
              "      flex-wrap:wrap;\n",
              "      gap: 12px;\n",
              "    }\n",
              "\n",
              "    .colab-df-convert {\n",
              "      background-color: #E8F0FE;\n",
              "      border: none;\n",
              "      border-radius: 50%;\n",
              "      cursor: pointer;\n",
              "      display: none;\n",
              "      fill: #1967D2;\n",
              "      height: 32px;\n",
              "      padding: 0 0 0 0;\n",
              "      width: 32px;\n",
              "    }\n",
              "\n",
              "    .colab-df-convert:hover {\n",
              "      background-color: #E2EBFA;\n",
              "      box-shadow: 0px 1px 2px rgba(60, 64, 67, 0.3), 0px 1px 3px 1px rgba(60, 64, 67, 0.15);\n",
              "      fill: #174EA6;\n",
              "    }\n",
              "\n",
              "    [theme=dark] .colab-df-convert {\n",
              "      background-color: #3B4455;\n",
              "      fill: #D2E3FC;\n",
              "    }\n",
              "\n",
              "    [theme=dark] .colab-df-convert:hover {\n",
              "      background-color: #434B5C;\n",
              "      box-shadow: 0px 1px 3px 1px rgba(0, 0, 0, 0.15);\n",
              "      filter: drop-shadow(0px 1px 2px rgba(0, 0, 0, 0.3));\n",
              "      fill: #FFFFFF;\n",
              "    }\n",
              "  </style>\n",
              "\n",
              "      <script>\n",
              "        const buttonEl =\n",
              "          document.querySelector('#df-d40c93ce-9124-4fe7-b4fd-6e3cfd6cda9c button.colab-df-convert');\n",
              "        buttonEl.style.display =\n",
              "          google.colab.kernel.accessAllowed ? 'block' : 'none';\n",
              "\n",
              "        async function convertToInteractive(key) {\n",
              "          const element = document.querySelector('#df-d40c93ce-9124-4fe7-b4fd-6e3cfd6cda9c');\n",
              "          const dataTable =\n",
              "            await google.colab.kernel.invokeFunction('convertToInteractive',\n",
              "                                                     [key], {});\n",
              "          if (!dataTable) return;\n",
              "\n",
              "          const docLinkHtml = 'Like what you see? Visit the ' +\n",
              "            '<a target=\"_blank\" href=https://colab.research.google.com/notebooks/data_table.ipynb>data table notebook</a>'\n",
              "            + ' to learn more about interactive tables.';\n",
              "          element.innerHTML = '';\n",
              "          dataTable['output_type'] = 'display_data';\n",
              "          await google.colab.output.renderOutput(dataTable, element);\n",
              "          const docLink = document.createElement('div');\n",
              "          docLink.innerHTML = docLinkHtml;\n",
              "          element.appendChild(docLink);\n",
              "        }\n",
              "      </script>\n",
              "    </div>\n",
              "  </div>\n",
              "  "
            ]
          },
          "metadata": {},
          "execution_count": 57
        }
      ]
    },
    {
      "cell_type": "code",
      "source": [
        "highlowmon.plot(kind = 'bar',width = 0.3)"
      ],
      "metadata": {
        "colab": {
          "base_uri": "https://localhost:8080/",
          "height": 310
        },
        "id": "8UuAYG0nTRwz",
        "outputId": "95ca8f56-3922-483d-956c-a07eaf974b03"
      },
      "execution_count": null,
      "outputs": [
        {
          "output_type": "execute_result",
          "data": {
            "text/plain": [
              "<matplotlib.axes._subplots.AxesSubplot at 0x7fa7fbc24550>"
            ]
          },
          "metadata": {},
          "execution_count": 58
        },
        {
          "output_type": "display_data",
          "data": {
            "text/plain": [
              "<Figure size 432x288 with 1 Axes>"
            ],
            "image/png": "[encoded data removed]"
          },
          "metadata": {
            "needs_background": "light"
          }
        }
      ]
    },
    {
      "cell_type": "code",
      "source": [
        "stock_price['Open'].plot(figsize=(16,6))"
      ],
      "metadata": {
        "colab": {
          "base_uri": "https://localhost:8080/",
          "height": 391
        },
        "id": "WSSkbewgY9Yh",
        "outputId": "fb47d0f4-ebb2-49ba-906a-4e909b1cc9dc"
      },
      "execution_count": null,
      "outputs": [
        {
          "output_type": "execute_result",
          "data": {
            "text/plain": [
              "<matplotlib.axes._subplots.AxesSubplot at 0x7fa7fbcae7d0>"
            ]
          },
          "metadata": {},
          "execution_count": 59
        },
        {
          "output_type": "display_data",
          "data": {
            "text/plain": [
              "<Figure size 1152x432 with 1 Axes>"
            ],
            "image/png": "[encoded data removed]"
          },
          "metadata": {
            "needs_background": "light"
          }
        }
      ]
    },
    {
      "cell_type": "code",
      "source": [
        "stock_price.rolling(7).mean().head(20)"
      ],
      "metadata": {
        "id": "5FyrNXRqT9Zr",
        "colab": {
          "base_uri": "https://localhost:8080/",
          "height": 676
        },
        "outputId": "fbcc9117-18ad-4c21-e123-16cc9bcd6a4e"
      },
      "execution_count": null,
      "outputs": [
        {
          "output_type": "execute_result",
          "data": {
            "text/plain": [
              "          Open        High         Low       Close   Adj Close        Volume  \\\n",
              "0          NaN         NaN         NaN         NaN         NaN           NaN   \n",
              "1          NaN         NaN         NaN         NaN         NaN           NaN   \n",
              "2          NaN         NaN         NaN         NaN         NaN           NaN   \n",
              "3          NaN         NaN         NaN         NaN         NaN           NaN   \n",
              "4          NaN         NaN         NaN         NaN         NaN           NaN   \n",
              "5          NaN         NaN         NaN         NaN         NaN           NaN   \n",
              "6   258.091426  264.432859  249.881426  257.190000  257.190000  1.072530e+07   \n",
              "7   257.872855  264.715718  251.352853  258.867144  258.867144  1.059329e+07   \n",
              "8   261.062855  266.687145  254.585711  260.945714  260.945714  1.033099e+07   \n",
              "9   262.798573  268.045713  256.208570  262.939998  262.939998  1.023540e+07   \n",
              "10  264.321431  270.644285  260.009997  267.004281  267.004281  1.001573e+07   \n",
              "11  268.352859  275.050001  266.281427  271.514282  271.514282  8.939186e+06   \n",
              "12  272.887146  278.671430  269.917143  274.398568  274.398568  8.990129e+06   \n",
              "13  276.274288  282.184287  273.218571  278.349998  278.349998  9.053929e+06   \n",
              "14  280.314287  285.865714  277.030003  282.372855  282.372855  8.953443e+06   \n",
              "15  283.848572  288.274283  280.310002  283.849998  283.849998  8.761557e+06   \n",
              "16  285.901428  290.244285  282.465716  285.687143  285.687143  8.667429e+06   \n",
              "17  288.045715  291.592856  283.497145  287.378575  287.378575  9.262157e+06   \n",
              "18  288.414285  293.669996  283.957145  290.237144  290.237144  9.829900e+06   \n",
              "19  291.124285  298.299997  287.264287  295.502856  295.502856  1.101228e+07   \n",
              "\n",
              "       month  \n",
              "0        NaN  \n",
              "1        NaN  \n",
              "2        NaN  \n",
              "3        NaN  \n",
              "4        NaN  \n",
              "5        NaN  \n",
              "6   2.000000  \n",
              "7   2.000000  \n",
              "8   2.000000  \n",
              "9   2.000000  \n",
              "10  2.000000  \n",
              "11  2.000000  \n",
              "12  2.000000  \n",
              "13  2.000000  \n",
              "14  2.000000  \n",
              "15  2.000000  \n",
              "16  2.000000  \n",
              "17  2.142857  \n",
              "18  2.285714  \n",
              "19  2.428571  "
            ],
            "text/html": [
              "\n",
              "  <div id=\"df-8021b9c9-65d8-452a-8140-a55126e39726\">\n",
              "    <div class=\"colab-df-container\">\n",
              "      <div>\n",
              "<style scoped>\n",
              "    .dataframe tbody tr th:only-of-type {\n",
              "        vertical-align: middle;\n",
              "    }\n",
              "\n",
              "    .dataframe tbody tr th {\n",
              "        vertical-align: top;\n",
              "    }\n",
              "\n",
              "    .dataframe thead th {\n",
              "        text-align: right;\n",
              "    }\n",
              "</style>\n",
              "<table border=\"1\" class=\"dataframe\">\n",
              "  <thead>\n",
              "    <tr style=\"text-align: right;\">\n",
              "      <th></th>\n",
              "      <th>Open</th>\n",
              "      <th>High</th>\n",
              "      <th>Low</th>\n",
              "      <th>Close</th>\n",
              "      <th>Adj Close</th>\n",
              "      <th>Volume</th>\n",
              "      <th>month</th>\n",
              "    </tr>\n",
              "  </thead>\n",
              "  <tbody>\n",
              "    <tr>\n",
              "      <th>0</th>\n",
              "      <td>NaN</td>\n",
              "      <td>NaN</td>\n",
              "      <td>NaN</td>\n",
              "      <td>NaN</td>\n",
              "      <td>NaN</td>\n",
              "      <td>NaN</td>\n",
              "      <td>NaN</td>\n",
              "    </tr>\n",
              "    <tr>\n",
              "      <th>1</th>\n",
              "      <td>NaN</td>\n",
              "      <td>NaN</td>\n",
              "      <td>NaN</td>\n",
              "      <td>NaN</td>\n",
              "      <td>NaN</td>\n",
              "      <td>NaN</td>\n",
              "      <td>NaN</td>\n",
              "    </tr>\n",
              "    <tr>\n",
              "      <th>2</th>\n",
              "      <td>NaN</td>\n",
              "      <td>NaN</td>\n",
              "      <td>NaN</td>\n",
              "      <td>NaN</td>\n",
              "      <td>NaN</td>\n",
              "      <td>NaN</td>\n",
              "      <td>NaN</td>\n",
              "    </tr>\n",
              "    <tr>\n",
              "      <th>3</th>\n",
              "      <td>NaN</td>\n",
              "      <td>NaN</td>\n",
              "      <td>NaN</td>\n",
              "      <td>NaN</td>\n",
              "      <td>NaN</td>\n",
              "      <td>NaN</td>\n",
              "      <td>NaN</td>\n",
              "    </tr>\n",
              "    <tr>\n",
              "      <th>4</th>\n",
              "      <td>NaN</td>\n",
              "      <td>NaN</td>\n",
              "      <td>NaN</td>\n",
              "      <td>NaN</td>\n",
              "      <td>NaN</td>\n",
              "      <td>NaN</td>\n",
              "      <td>NaN</td>\n",
              "    </tr>\n",
              "    <tr>\n",
              "      <th>5</th>\n",
              "      <td>NaN</td>\n",
              "      <td>NaN</td>\n",
              "      <td>NaN</td>\n",
              "      <td>NaN</td>\n",
              "      <td>NaN</td>\n",
              "      <td>NaN</td>\n",
              "      <td>NaN</td>\n",
              "    </tr>\n",
              "    <tr>\n",
              "      <th>6</th>\n",
              "      <td>258.091426</td>\n",
              "      <td>264.432859</td>\n",
              "      <td>249.881426</td>\n",
              "      <td>257.190000</td>\n",
              "      <td>257.190000</td>\n",
              "      <td>1.072530e+07</td>\n",
              "      <td>2.000000</td>\n",
              "    </tr>\n",
              "    <tr>\n",
              "      <th>7</th>\n",
              "      <td>257.872855</td>\n",
              "      <td>264.715718</td>\n",
              "      <td>251.352853</td>\n",
              "      <td>258.867144</td>\n",
              "      <td>258.867144</td>\n",
              "      <td>1.059329e+07</td>\n",
              "      <td>2.000000</td>\n",
              "    </tr>\n",
              "    <tr>\n",
              "      <th>8</th>\n",
              "      <td>261.062855</td>\n",
              "      <td>266.687145</td>\n",
              "      <td>254.585711</td>\n",
              "      <td>260.945714</td>\n",
              "      <td>260.945714</td>\n",
              "      <td>1.033099e+07</td>\n",
              "      <td>2.000000</td>\n",
              "    </tr>\n",
              "    <tr>\n",
              "      <th>9</th>\n",
              "      <td>262.798573</td>\n",
              "      <td>268.045713</td>\n",
              "      <td>256.208570</td>\n",
              "      <td>262.939998</td>\n",
              "      <td>262.939998</td>\n",
              "      <td>1.023540e+07</td>\n",
              "      <td>2.000000</td>\n",
              "    </tr>\n",
              "    <tr>\n",
              "      <th>10</th>\n",
              "      <td>264.321431</td>\n",
              "      <td>270.644285</td>\n",
              "      <td>260.009997</td>\n",
              "      <td>267.004281</td>\n",
              "      <td>267.004281</td>\n",
              "      <td>1.001573e+07</td>\n",
              "      <td>2.000000</td>\n",
              "    </tr>\n",
              "    <tr>\n",
              "      <th>11</th>\n",
              "      <td>268.352859</td>\n",
              "      <td>275.050001</td>\n",
              "      <td>266.281427</td>\n",
              "      <td>271.514282</td>\n",
              "      <td>271.514282</td>\n",
              "      <td>8.939186e+06</td>\n",
              "      <td>2.000000</td>\n",
              "    </tr>\n",
              "    <tr>\n",
              "      <th>12</th>\n",
              "      <td>272.887146</td>\n",
              "      <td>278.671430</td>\n",
              "      <td>269.917143</td>\n",
              "      <td>274.398568</td>\n",
              "      <td>274.398568</td>\n",
              "      <td>8.990129e+06</td>\n",
              "      <td>2.000000</td>\n",
              "    </tr>\n",
              "    <tr>\n",
              "      <th>13</th>\n",
              "      <td>276.274288</td>\n",
              "      <td>282.184287</td>\n",
              "      <td>273.218571</td>\n",
              "      <td>278.349998</td>\n",
              "      <td>278.349998</td>\n",
              "      <td>9.053929e+06</td>\n",
              "      <td>2.000000</td>\n",
              "    </tr>\n",
              "    <tr>\n",
              "      <th>14</th>\n",
              "      <td>280.314287</td>\n",
              "      <td>285.865714</td>\n",
              "      <td>277.030003</td>\n",
              "      <td>282.372855</td>\n",
              "      <td>282.372855</td>\n",
              "      <td>8.953443e+06</td>\n",
              "      <td>2.000000</td>\n",
              "    </tr>\n",
              "    <tr>\n",
              "      <th>15</th>\n",
              "      <td>283.848572</td>\n",
              "      <td>288.274283</td>\n",
              "      <td>280.310002</td>\n",
              "      <td>283.849998</td>\n",
              "      <td>283.849998</td>\n",
              "      <td>8.761557e+06</td>\n",
              "      <td>2.000000</td>\n",
              "    </tr>\n",
              "    <tr>\n",
              "      <th>16</th>\n",
              "      <td>285.901428</td>\n",
              "      <td>290.244285</td>\n",
              "      <td>282.465716</td>\n",
              "      <td>285.687143</td>\n",
              "      <td>285.687143</td>\n",
              "      <td>8.667429e+06</td>\n",
              "      <td>2.000000</td>\n",
              "    </tr>\n",
              "    <tr>\n",
              "      <th>17</th>\n",
              "      <td>288.045715</td>\n",
              "      <td>291.592856</td>\n",
              "      <td>283.497145</td>\n",
              "      <td>287.378575</td>\n",
              "      <td>287.378575</td>\n",
              "      <td>9.262157e+06</td>\n",
              "      <td>2.142857</td>\n",
              "    </tr>\n",
              "    <tr>\n",
              "      <th>18</th>\n",
              "      <td>288.414285</td>\n",
              "      <td>293.669996</td>\n",
              "      <td>283.957145</td>\n",
              "      <td>290.237144</td>\n",
              "      <td>290.237144</td>\n",
              "      <td>9.829900e+06</td>\n",
              "      <td>2.285714</td>\n",
              "    </tr>\n",
              "    <tr>\n",
              "      <th>19</th>\n",
              "      <td>291.124285</td>\n",
              "      <td>298.299997</td>\n",
              "      <td>287.264287</td>\n",
              "      <td>295.502856</td>\n",
              "      <td>295.502856</td>\n",
              "      <td>1.101228e+07</td>\n",
              "      <td>2.428571</td>\n",
              "    </tr>\n",
              "  </tbody>\n",
              "</table>\n",
              "</div>\n",
              "      <button class=\"colab-df-convert\" onclick=\"convertToInteractive('df-8021b9c9-65d8-452a-8140-a55126e39726')\"\n",
              "              title=\"Convert this dataframe to an interactive table.\"\n",
              "              style=\"display:none;\">\n",
              "        \n",
              "  <svg xmlns=\"http://www.w3.org/2000/svg\" height=\"24px\"viewBox=\"0 0 24 24\"\n",
              "       width=\"24px\">\n",
              "    <path d=\"M0 0h24v24H0V0z\" fill=\"none\"/>\n",
              "    <path d=\"M18.56 5.44l.94 2.06.94-2.06 2.06-.94-2.06-.94-.94-2.06-.94 2.06-2.06.94zm-11 1L8.5 8.5l.94-2.06 2.06-.94-2.06-.94L8.5 2.5l-.94 2.06-2.06.94zm10 10l.94 2.06.94-2.06 2.06-.94-2.06-.94-.94-2.06-.94 2.06-2.06.94z\"/><path d=\"M17.41 7.96l-1.37-1.37c-.4-.4-.92-.59-1.43-.59-.52 0-1.04.2-1.43.59L10.3 9.45l-7.72 7.72c-.78.78-.78 2.05 0 2.83L4 21.41c.39.39.9.59 1.41.59.51 0 1.02-.2 1.41-.59l7.78-7.78 2.81-2.81c.8-.78.8-2.07 0-2.86zM5.41 20L4 18.59l7.72-7.72 1.47 1.35L5.41 20z\"/>\n",
              "  </svg>\n",
              "      </button>\n",
              "      \n",
              "  <style>\n",
              "    .colab-df-container {\n",
              "      display:flex;\n",
              "      flex-wrap:wrap;\n",
              "      gap: 12px;\n",
              "    }\n",
              "\n",
              "    .colab-df-convert {\n",
              "      background-color: #E8F0FE;\n",
              "      border: none;\n",
              "      border-radius: 50%;\n",
              "      cursor: pointer;\n",
              "      display: none;\n",
              "      fill: #1967D2;\n",
              "      height: 32px;\n",
              "      padding: 0 0 0 0;\n",
              "      width: 32px;\n",
              "    }\n",
              "\n",
              "    .colab-df-convert:hover {\n",
              "      background-color: #E2EBFA;\n",
              "      box-shadow: 0px 1px 2px rgba(60, 64, 67, 0.3), 0px 1px 3px 1px rgba(60, 64, 67, 0.15);\n",
              "      fill: #174EA6;\n",
              "    }\n",
              "\n",
              "    [theme=dark] .colab-df-convert {\n",
              "      background-color: #3B4455;\n",
              "      fill: #D2E3FC;\n",
              "    }\n",
              "\n",
              "    [theme=dark] .colab-df-convert:hover {\n",
              "      background-color: #434B5C;\n",
              "      box-shadow: 0px 1px 3px 1px rgba(0, 0, 0, 0.15);\n",
              "      filter: drop-shadow(0px 1px 2px rgba(0, 0, 0, 0.3));\n",
              "      fill: #FFFFFF;\n",
              "    }\n",
              "  </style>\n",
              "\n",
              "      <script>\n",
              "        const buttonEl =\n",
              "          document.querySelector('#df-8021b9c9-65d8-452a-8140-a55126e39726 button.colab-df-convert');\n",
              "        buttonEl.style.display =\n",
              "          google.colab.kernel.accessAllowed ? 'block' : 'none';\n",
              "\n",
              "        async function convertToInteractive(key) {\n",
              "          const element = document.querySelector('#df-8021b9c9-65d8-452a-8140-a55126e39726');\n",
              "          const dataTable =\n",
              "            await google.colab.kernel.invokeFunction('convertToInteractive',\n",
              "                                                     [key], {});\n",
              "          if (!dataTable) return;\n",
              "\n",
              "          const docLinkHtml = 'Like what you see? Visit the ' +\n",
              "            '<a target=\"_blank\" href=https://colab.research.google.com/notebooks/data_table.ipynb>data table notebook</a>'\n",
              "            + ' to learn more about interactive tables.';\n",
              "          element.innerHTML = '';\n",
              "          dataTable['output_type'] = 'display_data';\n",
              "          await google.colab.output.renderOutput(dataTable, element);\n",
              "          const docLink = document.createElement('div');\n",
              "          docLink.innerHTML = docLinkHtml;\n",
              "          element.appendChild(docLink);\n",
              "        }\n",
              "      </script>\n",
              "    </div>\n",
              "  </div>\n",
              "  "
            ]
          },
          "metadata": {},
          "execution_count": 60
        }
      ]
    },
    {
      "cell_type": "code",
      "source": [
        "stock_price['Open'].plot(figsize=(16,6))\n",
        "stock_price.rolling(window=30).mean()['Close'].plot()"
      ],
      "metadata": {
        "colab": {
          "base_uri": "https://localhost:8080/",
          "height": 391
        },
        "id": "lI0FLRYtbb9p",
        "outputId": "bc4664ea-239f-4623-9dc4-fbbb965d00b5"
      },
      "execution_count": null,
      "outputs": [
        {
          "output_type": "execute_result",
          "data": {
            "text/plain": [
              "<matplotlib.axes._subplots.AxesSubplot at 0x7fa7fc1656d0>"
            ]
          },
          "metadata": {},
          "execution_count": 62
        },
        {
          "output_type": "display_data",
          "data": {
            "text/plain": [
              "<Figure size 1152x432 with 1 Axes>"
            ],
            "image/png": "[encoded data removed]"
          },
          "metadata": {
            "needs_background": "light"
          }
        }
      ]
    },
    {
      "cell_type": "code",
      "source": [
        "stock_price['Close: 30 day mean']=stock_price['Close'].rolling(window=30).mean()\n",
        "stock_price[['Close','Close: 30 day mean']].plot(figsize=(16,6))"
      ],
      "metadata": {
        "colab": {
          "base_uri": "https://localhost:8080/",
          "height": 391
        },
        "id": "SOeDVyVzciv9",
        "outputId": "21dc691c-66d4-4f06-d440-4ddf0d15815f"
      },
      "execution_count": null,
      "outputs": [
        {
          "output_type": "execute_result",
          "data": {
            "text/plain": [
              "<matplotlib.axes._subplots.AxesSubplot at 0x7fa7fbccbd90>"
            ]
          },
          "metadata": {},
          "execution_count": 65
        },
        {
          "output_type": "display_data",
          "data": {
            "text/plain": [
              "<Figure size 1152x432 with 1 Axes>"
            ],
            "image/png": "[encoded data removed]"
          },
          "metadata": {
            "needs_background": "light"
          }
        }
      ]
    },
    {
      "cell_type": "code",
      "source": [
        "stock_price['Close'].expanding(min_periods=1).mean().plot(figsize=(16,6))"
      ],
      "metadata": {
        "colab": {
          "base_uri": "https://localhost:8080/",
          "height": 391
        },
        "id": "5X1wOT8DfgGR",
        "outputId": "8fd4f81a-7c5a-473f-ba0f-7f11598d4fdb"
      },
      "execution_count": null,
      "outputs": [
        {
          "output_type": "execute_result",
          "data": {
            "text/plain": [
              "<matplotlib.axes._subplots.AxesSubplot at 0x7fa7fe2c18d0>"
            ]
          },
          "metadata": {},
          "execution_count": 66
        },
        {
          "output_type": "display_data",
          "data": {
            "text/plain": [
              "<Figure size 1152x432 with 1 Axes>"
            ],
            "image/png": "[encoded data removed]"
          },
          "metadata": {
            "needs_background": "light"
          }
        }
      ]
    },
    {
      "cell_type": "code",
      "source": [
        "from sklearn.model_selection import train_test_split\n",
        "training_set, test_set = train_test_split(stock_price['Open'],random_state = 0)\n",
        "training_set = pd.DataFrame(training_set)\n",
        "training_set"
      ],
      "metadata": {
        "colab": {
          "base_uri": "https://localhost:8080/",
          "height": 424
        },
        "id": "dROJL_Wqf0bf",
        "outputId": "b41f3535-6e1b-4dd7-855b-598b1859b96f"
      },
      "execution_count": null,
      "outputs": [
        {
          "output_type": "execute_result",
          "data": {
            "text/plain": [
              "           Open\n",
              "810  506.760010\n",
              "2    266.579987\n",
              "481  326.779999\n",
              "477  332.959991\n",
              "308  373.679993\n",
              "..          ...\n",
              "835  504.010010\n",
              "192  312.899994\n",
              "629  508.679993\n",
              "559  425.000000\n",
              "684  494.690002\n",
              "\n",
              "[756 rows x 1 columns]"
            ],
            "text/html": [
              "\n",
              "  <div id=\"df-071d47f2-2172-450c-9b12-cc9aadd4c959\">\n",
              "    <div class=\"colab-df-container\">\n",
              "      <div>\n",
              "<style scoped>\n",
              "    .dataframe tbody tr th:only-of-type {\n",
              "        vertical-align: middle;\n",
              "    }\n",
              "\n",
              "    .dataframe tbody tr th {\n",
              "        vertical-align: top;\n",
              "    }\n",
              "\n",
              "    .dataframe thead th {\n",
              "        text-align: right;\n",
              "    }\n",
              "</style>\n",
              "<table border=\"1\" class=\"dataframe\">\n",
              "  <thead>\n",
              "    <tr style=\"text-align: right;\">\n",
              "      <th></th>\n",
              "      <th>Open</th>\n",
              "    </tr>\n",
              "  </thead>\n",
              "  <tbody>\n",
              "    <tr>\n",
              "      <th>810</th>\n",
              "      <td>506.760010</td>\n",
              "    </tr>\n",
              "    <tr>\n",
              "      <th>2</th>\n",
              "      <td>266.579987</td>\n",
              "    </tr>\n",
              "    <tr>\n",
              "      <th>481</th>\n",
              "      <td>326.779999</td>\n",
              "    </tr>\n",
              "    <tr>\n",
              "      <th>477</th>\n",
              "      <td>332.959991</td>\n",
              "    </tr>\n",
              "    <tr>\n",
              "      <th>308</th>\n",
              "      <td>373.679993</td>\n",
              "    </tr>\n",
              "    <tr>\n",
              "      <th>...</th>\n",
              "      <td>...</td>\n",
              "    </tr>\n",
              "    <tr>\n",
              "      <th>835</th>\n",
              "      <td>504.010010</td>\n",
              "    </tr>\n",
              "    <tr>\n",
              "      <th>192</th>\n",
              "      <td>312.899994</td>\n",
              "    </tr>\n",
              "    <tr>\n",
              "      <th>629</th>\n",
              "      <td>508.679993</td>\n",
              "    </tr>\n",
              "    <tr>\n",
              "      <th>559</th>\n",
              "      <td>425.000000</td>\n",
              "    </tr>\n",
              "    <tr>\n",
              "      <th>684</th>\n",
              "      <td>494.690002</td>\n",
              "    </tr>\n",
              "  </tbody>\n",
              "</table>\n",
              "<p>756 rows × 1 columns</p>\n",
              "</div>\n",
              "      <button class=\"colab-df-convert\" onclick=\"convertToInteractive('df-071d47f2-2172-450c-9b12-cc9aadd4c959')\"\n",
              "              title=\"Convert this dataframe to an interactive table.\"\n",
              "              style=\"display:none;\">\n",
              "        \n",
              "  <svg xmlns=\"http://www.w3.org/2000/svg\" height=\"24px\"viewBox=\"0 0 24 24\"\n",
              "       width=\"24px\">\n",
              "    <path d=\"M0 0h24v24H0V0z\" fill=\"none\"/>\n",
              "    <path d=\"M18.56 5.44l.94 2.06.94-2.06 2.06-.94-2.06-.94-.94-2.06-.94 2.06-2.06.94zm-11 1L8.5 8.5l.94-2.06 2.06-.94-2.06-.94L8.5 2.5l-.94 2.06-2.06.94zm10 10l.94 2.06.94-2.06 2.06-.94-2.06-.94-.94-2.06-.94 2.06-2.06.94z\"/><path d=\"M17.41 7.96l-1.37-1.37c-.4-.4-.92-.59-1.43-.59-.52 0-1.04.2-1.43.59L10.3 9.45l-7.72 7.72c-.78.78-.78 2.05 0 2.83L4 21.41c.39.39.9.59 1.41.59.51 0 1.02-.2 1.41-.59l7.78-7.78 2.81-2.81c.8-.78.8-2.07 0-2.86zM5.41 20L4 18.59l7.72-7.72 1.47 1.35L5.41 20z\"/>\n",
              "  </svg>\n",
              "      </button>\n",
              "      \n",
              "  <style>\n",
              "    .colab-df-container {\n",
              "      display:flex;\n",
              "      flex-wrap:wrap;\n",
              "      gap: 12px;\n",
              "    }\n",
              "\n",
              "    .colab-df-convert {\n",
              "      background-color: #E8F0FE;\n",
              "      border: none;\n",
              "      border-radius: 50%;\n",
              "      cursor: pointer;\n",
              "      display: none;\n",
              "      fill: #1967D2;\n",
              "      height: 32px;\n",
              "      padding: 0 0 0 0;\n",
              "      width: 32px;\n",
              "    }\n",
              "\n",
              "    .colab-df-convert:hover {\n",
              "      background-color: #E2EBFA;\n",
              "      box-shadow: 0px 1px 2px rgba(60, 64, 67, 0.3), 0px 1px 3px 1px rgba(60, 64, 67, 0.15);\n",
              "      fill: #174EA6;\n",
              "    }\n",
              "\n",
              "    [theme=dark] .colab-df-convert {\n",
              "      background-color: #3B4455;\n",
              "      fill: #D2E3FC;\n",
              "    }\n",
              "\n",
              "    [theme=dark] .colab-df-convert:hover {\n",
              "      background-color: #434B5C;\n",
              "      box-shadow: 0px 1px 3px 1px rgba(0, 0, 0, 0.15);\n",
              "      filter: drop-shadow(0px 1px 2px rgba(0, 0, 0, 0.3));\n",
              "      fill: #FFFFFF;\n",
              "    }\n",
              "  </style>\n",
              "\n",
              "      <script>\n",
              "        const buttonEl =\n",
              "          document.querySelector('#df-071d47f2-2172-450c-9b12-cc9aadd4c959 button.colab-df-convert');\n",
              "        buttonEl.style.display =\n",
              "          google.colab.kernel.accessAllowed ? 'block' : 'none';\n",
              "\n",
              "        async function convertToInteractive(key) {\n",
              "          const element = document.querySelector('#df-071d47f2-2172-450c-9b12-cc9aadd4c959');\n",
              "          const dataTable =\n",
              "            await google.colab.kernel.invokeFunction('convertToInteractive',\n",
              "                                                     [key], {});\n",
              "          if (!dataTable) return;\n",
              "\n",
              "          const docLinkHtml = 'Like what you see? Visit the ' +\n",
              "            '<a target=\"_blank\" href=https://colab.research.google.com/notebooks/data_table.ipynb>data table notebook</a>'\n",
              "            + ' to learn more about interactive tables.';\n",
              "          element.innerHTML = '';\n",
              "          dataTable['output_type'] = 'display_data';\n",
              "          await google.colab.output.renderOutput(dataTable, element);\n",
              "          const docLink = document.createElement('div');\n",
              "          docLink.innerHTML = docLinkHtml;\n",
              "          element.appendChild(docLink);\n",
              "        }\n",
              "      </script>\n",
              "    </div>\n",
              "  </div>\n",
              "  "
            ]
          },
          "metadata": {},
          "execution_count": 80
        }
      ]
    },
    {
      "cell_type": "markdown",
      "source": [
        "Modelling"
      ],
      "metadata": {
        "id": "sWanjEcs6Iei"
      }
    },
    {
      "cell_type": "code",
      "source": [
        "from sklearn.preprocessing import MinMaxScaler\n",
        "sc = MinMaxScaler(feature_range=(0,1))\n",
        "training_set_scaled = sc.fit_transform(training_set)"
      ],
      "metadata": {
        "id": "tICHPhzWgItH"
      },
      "execution_count": null,
      "outputs": []
    },
    {
      "cell_type": "code",
      "source": [
        "X_train = []\n",
        "y_train = []\n",
        "for i in range(60,756):\n",
        "  X_train.append(training_set_scaled[i-60:i,0])\n",
        "  y_train.append(training_set_scaled[i,0]),\n",
        "X_train, y_train = np.array(X_train),np.array(y_train)\n",
        "X_train = np.reshape(X_train,(X_train.shape[0], X_train.shape[1],1))"
      ],
      "metadata": {
        "id": "rJXRhgKBgn9I"
      },
      "execution_count": null,
      "outputs": []
    },
    {
      "cell_type": "code",
      "source": [
        "from keras.models import Sequential\n",
        "from keras.layers import Dense\n",
        "from keras.layers import LSTM\n",
        "from keras.layers import Dropout\n"
      ],
      "metadata": {
        "id": "xsXmay5-i8A0"
      },
      "execution_count": null,
      "outputs": []
    },
    {
      "cell_type": "code",
      "source": [
        "regressor = Sequential()"
      ],
      "metadata": {
        "id": "EHsATTKMlTDw"
      },
      "execution_count": null,
      "outputs": []
    },
    {
      "cell_type": "code",
      "source": [
        "regressor.add(LSTM(units = 50, return_sequences = True, input_shape = (X_train.shape[1],1)))\n",
        "regressor.add(Dropout(0.2))\n",
        "\n",
        "regressor.add(LSTM(units = 50, return_sequences = True))\n",
        "regressor.add(Dropout(0.2))\n",
        "\n",
        "regressor.add(LSTM(units = 50, return_sequences = True))\n",
        "regressor.add(Dropout(0.2))\n",
        "\n",
        "regressor.add(LSTM(units = 50))\n",
        "regressor.add(Dropout(0.2))\n",
        "\n",
        "regressor.add(Dense(units = 1))\n"
      ],
      "metadata": {
        "id": "FGbqpxDHlYLi"
      },
      "execution_count": null,
      "outputs": []
    },
    {
      "cell_type": "code",
      "source": [
        "regressor.compile(optimizer = 'adam', loss = 'mean_squared_error')\n",
        "regressor.fit(X_train, y_train, epochs = 100, batch_size = 32)\n"
      ],
      "metadata": {
        "colab": {
          "base_uri": "https://localhost:8080/"
        },
        "id": "chj2fhTZmgln",
        "outputId": "84f50f64-a8ea-449c-eb80-c1d26ca6f224"
      },
      "execution_count": null,
      "outputs": [
        {
          "output_type": "stream",
          "name": "stdout",
          "text": [
            "Epoch 1/100\n",
            "22/22 [==============================] - 10s 125ms/step - loss: 0.0858\n",
            "Epoch 2/100\n",
            "22/22 [==============================] - 3s 124ms/step - loss: 0.0593\n",
            "Epoch 3/100\n",
            "22/22 [==============================] - 3s 123ms/step - loss: 0.0589\n",
            "Epoch 4/100\n",
            "22/22 [==============================] - 3s 128ms/step - loss: 0.0601\n",
            "Epoch 5/100\n",
            "22/22 [==============================] - 3s 125ms/step - loss: 0.0585\n",
            "Epoch 6/100\n",
            "22/22 [==============================] - 3s 123ms/step - loss: 0.0579\n",
            "Epoch 7/100\n",
            "22/22 [==============================] - 3s 127ms/step - loss: 0.0601\n",
            "Epoch 8/100\n",
            "22/22 [==============================] - 3s 125ms/step - loss: 0.0596\n",
            "Epoch 9/100\n",
            "22/22 [==============================] - 3s 127ms/step - loss: 0.0590\n",
            "Epoch 10/100\n",
            "22/22 [==============================] - 3s 127ms/step - loss: 0.0585\n",
            "Epoch 11/100\n",
            "22/22 [==============================] - 3s 148ms/step - loss: 0.0588\n",
            "Epoch 12/100\n",
            "22/22 [==============================] - 3s 125ms/step - loss: 0.0583\n",
            "Epoch 13/100\n",
            "22/22 [==============================] - 3s 128ms/step - loss: 0.0601\n",
            "Epoch 14/100\n",
            "22/22 [==============================] - 3s 125ms/step - loss: 0.0583\n",
            "Epoch 15/100\n",
            "22/22 [==============================] - 3s 126ms/step - loss: 0.0590\n",
            "Epoch 16/100\n",
            "22/22 [==============================] - 3s 125ms/step - loss: 0.0583\n",
            "Epoch 17/100\n",
            "22/22 [==============================] - 3s 146ms/step - loss: 0.0588\n",
            "Epoch 18/100\n",
            "22/22 [==============================] - 3s 126ms/step - loss: 0.0577\n",
            "Epoch 19/100\n",
            "22/22 [==============================] - 3s 125ms/step - loss: 0.0589\n",
            "Epoch 20/100\n",
            "22/22 [==============================] - 3s 123ms/step - loss: 0.0585\n",
            "Epoch 21/100\n",
            "22/22 [==============================] - 3s 126ms/step - loss: 0.0584\n",
            "Epoch 22/100\n",
            "22/22 [==============================] - 3s 125ms/step - loss: 0.0601\n",
            "Epoch 23/100\n",
            "22/22 [==============================] - 3s 125ms/step - loss: 0.0582\n",
            "Epoch 24/100\n",
            "22/22 [==============================] - 3s 123ms/step - loss: 0.0581\n",
            "Epoch 25/100\n",
            "22/22 [==============================] - 3s 125ms/step - loss: 0.0581\n",
            "Epoch 26/100\n",
            "22/22 [==============================] - 3s 126ms/step - loss: 0.0581\n",
            "Epoch 27/100\n",
            "22/22 [==============================] - 3s 124ms/step - loss: 0.0583\n",
            "Epoch 28/100\n",
            "22/22 [==============================] - 3s 124ms/step - loss: 0.0575\n",
            "Epoch 29/100\n",
            "22/22 [==============================] - 3s 124ms/step - loss: 0.0585\n",
            "Epoch 30/100\n",
            "22/22 [==============================] - 3s 128ms/step - loss: 0.0583\n",
            "Epoch 31/100\n",
            "22/22 [==============================] - 3s 126ms/step - loss: 0.0595\n",
            "Epoch 32/100\n",
            "22/22 [==============================] - 3s 126ms/step - loss: 0.0582\n",
            "Epoch 33/100\n",
            "22/22 [==============================] - 3s 123ms/step - loss: 0.0585\n",
            "Epoch 34/100\n",
            "22/22 [==============================] - 3s 128ms/step - loss: 0.0574\n",
            "Epoch 35/100\n",
            "22/22 [==============================] - 3s 124ms/step - loss: 0.0582\n",
            "Epoch 36/100\n",
            "22/22 [==============================] - 3s 124ms/step - loss: 0.0574\n",
            "Epoch 37/100\n",
            "22/22 [==============================] - 3s 125ms/step - loss: 0.0574\n",
            "Epoch 38/100\n",
            "22/22 [==============================] - 3s 129ms/step - loss: 0.0575\n",
            "Epoch 39/100\n",
            "22/22 [==============================] - 3s 126ms/step - loss: 0.0567\n",
            "Epoch 40/100\n",
            "22/22 [==============================] - 3s 125ms/step - loss: 0.0587\n",
            "Epoch 41/100\n",
            "22/22 [==============================] - 3s 126ms/step - loss: 0.0587\n",
            "Epoch 42/100\n",
            "22/22 [==============================] - 3s 126ms/step - loss: 0.0582\n",
            "Epoch 43/100\n",
            "22/22 [==============================] - 3s 125ms/step - loss: 0.0577\n",
            "Epoch 44/100\n",
            "22/22 [==============================] - 3s 130ms/step - loss: 0.0578\n",
            "Epoch 45/100\n",
            "22/22 [==============================] - 3s 126ms/step - loss: 0.0573\n",
            "Epoch 46/100\n",
            "22/22 [==============================] - 3s 124ms/step - loss: 0.0578\n",
            "Epoch 47/100\n",
            "22/22 [==============================] - 3s 126ms/step - loss: 0.0569\n",
            "Epoch 48/100\n",
            "22/22 [==============================] - 3s 127ms/step - loss: 0.0576\n",
            "Epoch 49/100\n",
            "22/22 [==============================] - 3s 127ms/step - loss: 0.0576\n",
            "Epoch 50/100\n",
            "22/22 [==============================] - 4s 165ms/step - loss: 0.0588\n",
            "Epoch 51/100\n",
            "22/22 [==============================] - 3s 154ms/step - loss: 0.0578\n",
            "Epoch 52/100\n",
            "22/22 [==============================] - 3s 128ms/step - loss: 0.0576\n",
            "Epoch 53/100\n",
            "22/22 [==============================] - 3s 126ms/step - loss: 0.0569\n",
            "Epoch 54/100\n",
            "22/22 [==============================] - 3s 125ms/step - loss: 0.0579\n",
            "Epoch 55/100\n",
            "22/22 [==============================] - 3s 126ms/step - loss: 0.0566\n",
            "Epoch 56/100\n",
            "22/22 [==============================] - 3s 126ms/step - loss: 0.0581\n",
            "Epoch 57/100\n",
            "22/22 [==============================] - 3s 125ms/step - loss: 0.0572\n",
            "Epoch 58/100\n",
            "22/22 [==============================] - 3s 126ms/step - loss: 0.0567\n",
            "Epoch 59/100\n",
            "22/22 [==============================] - 3s 125ms/step - loss: 0.0585\n",
            "Epoch 60/100\n",
            "22/22 [==============================] - 3s 128ms/step - loss: 0.0571\n",
            "Epoch 61/100\n",
            "22/22 [==============================] - 3s 126ms/step - loss: 0.0572\n",
            "Epoch 62/100\n",
            "22/22 [==============================] - 3s 125ms/step - loss: 0.0571\n",
            "Epoch 63/100\n",
            "22/22 [==============================] - 3s 126ms/step - loss: 0.0568\n",
            "Epoch 64/100\n",
            "22/22 [==============================] - 3s 126ms/step - loss: 0.0569\n",
            "Epoch 65/100\n",
            "22/22 [==============================] - 3s 127ms/step - loss: 0.0575\n",
            "Epoch 66/100\n",
            "22/22 [==============================] - 3s 129ms/step - loss: 0.0572\n",
            "Epoch 67/100\n",
            "22/22 [==============================] - 3s 127ms/step - loss: 0.0570\n",
            "Epoch 68/100\n",
            "22/22 [==============================] - 3s 126ms/step - loss: 0.0571\n",
            "Epoch 69/100\n",
            "22/22 [==============================] - 3s 128ms/step - loss: 0.0578\n",
            "Epoch 70/100\n",
            "22/22 [==============================] - 3s 127ms/step - loss: 0.0568\n",
            "Epoch 71/100\n",
            "22/22 [==============================] - 3s 130ms/step - loss: 0.0559\n",
            "Epoch 72/100\n",
            "22/22 [==============================] - 3s 128ms/step - loss: 0.0566\n",
            "Epoch 73/100\n",
            "22/22 [==============================] - 3s 129ms/step - loss: 0.0575\n",
            "Epoch 74/100\n",
            "22/22 [==============================] - 3s 128ms/step - loss: 0.0576\n",
            "Epoch 75/100\n",
            "22/22 [==============================] - 3s 129ms/step - loss: 0.0572\n",
            "Epoch 76/100\n",
            "22/22 [==============================] - 3s 129ms/step - loss: 0.0581\n",
            "Epoch 77/100\n",
            "22/22 [==============================] - 3s 129ms/step - loss: 0.0570\n",
            "Epoch 78/100\n",
            "22/22 [==============================] - 3s 126ms/step - loss: 0.0572\n",
            "Epoch 79/100\n",
            "22/22 [==============================] - 3s 127ms/step - loss: 0.0573\n",
            "Epoch 80/100\n",
            "22/22 [==============================] - 3s 127ms/step - loss: 0.0567\n",
            "Epoch 81/100\n",
            "22/22 [==============================] - 3s 126ms/step - loss: 0.0565\n",
            "Epoch 82/100\n",
            "22/22 [==============================] - 3s 126ms/step - loss: 0.0565\n",
            "Epoch 83/100\n",
            "22/22 [==============================] - 3s 126ms/step - loss: 0.0574\n",
            "Epoch 84/100\n",
            "22/22 [==============================] - 3s 126ms/step - loss: 0.0576\n",
            "Epoch 85/100\n",
            "22/22 [==============================] - 3s 125ms/step - loss: 0.0566\n",
            "Epoch 86/100\n",
            "22/22 [==============================] - 3s 126ms/step - loss: 0.0571\n",
            "Epoch 87/100\n",
            "22/22 [==============================] - 3s 126ms/step - loss: 0.0570\n",
            "Epoch 88/100\n",
            "22/22 [==============================] - 3s 125ms/step - loss: 0.0576\n",
            "Epoch 89/100\n",
            "22/22 [==============================] - 3s 125ms/step - loss: 0.0567\n",
            "Epoch 90/100\n",
            "22/22 [==============================] - 3s 129ms/step - loss: 0.0577\n",
            "Epoch 91/100\n",
            "22/22 [==============================] - 3s 126ms/step - loss: 0.0566\n",
            "Epoch 92/100\n",
            "22/22 [==============================] - 3s 127ms/step - loss: 0.0575\n",
            "Epoch 93/100\n",
            "22/22 [==============================] - 3s 124ms/step - loss: 0.0580\n",
            "Epoch 94/100\n",
            "22/22 [==============================] - 3s 129ms/step - loss: 0.0582\n",
            "Epoch 95/100\n",
            "22/22 [==============================] - 3s 125ms/step - loss: 0.0567\n",
            "Epoch 96/100\n",
            "22/22 [==============================] - 3s 124ms/step - loss: 0.0573\n",
            "Epoch 97/100\n",
            "22/22 [==============================] - 3s 125ms/step - loss: 0.0570\n",
            "Epoch 98/100\n",
            "22/22 [==============================] - 3s 128ms/step - loss: 0.0568\n",
            "Epoch 99/100\n",
            "22/22 [==============================] - 3s 125ms/step - loss: 0.0567\n",
            "Epoch 100/100\n",
            "22/22 [==============================] - 3s 124ms/step - loss: 0.0568\n"
          ]
        },
        {
          "output_type": "execute_result",
          "data": {
            "text/plain": [
              "<keras.callbacks.History at 0x7fa780282b90>"
            ]
          },
          "metadata": {},
          "execution_count": 85
        }
      ]
    },
    {
      "cell_type": "code",
      "source": [
        "test_set = pd.DataFrame(test_set)\n",
        "inputs = sc.transform(test_set)\n",
        "X_test = []\n",
        "for i in range(60,253):\n",
        "  X_test.append(inputs[i-60:i,0])\n",
        "X_test = np.array(X_test)\n",
        "X_test = np.reshape(X_test, (X_test.shape[0], X_test.shape[1],1))\n",
        "predicted_stock_price = regressor.predict(X_test)\n",
        "predicted_stock_price = sc.inverse_transform(predicted_stock_price)\n"
      ],
      "metadata": {
        "id": "apR55ceysT0D"
      },
      "execution_count": null,
      "outputs": []
    },
    {
      "cell_type": "code",
      "source": [
        "predicted_stock_price = pd.DataFrame(predicted_stock_price)\n",
        "predicted_stock_price.info()"
      ],
      "metadata": {
        "colab": {
          "base_uri": "https://localhost:8080/"
        },
        "id": "OZMNAWnAvOYL",
        "outputId": "147123f9-2b71-4f5f-9059-ebf5abcd2b04"
      },
      "execution_count": null,
      "outputs": [
        {
          "output_type": "stream",
          "name": "stdout",
          "text": [
            "<class 'pandas.core.frame.DataFrame'>\n",
            "RangeIndex: 193 entries, 0 to 192\n",
            "Data columns (total 1 columns):\n",
            " #   Column  Non-Null Count  Dtype  \n",
            "---  ------  --------------  -----  \n",
            " 0   0       193 non-null    float32\n",
            "dtypes: float32(1)\n",
            "memory usage: 900.0 bytes\n"
          ]
        }
      ]
    },
    {
      "cell_type": "code",
      "source": [
        "real = test_set.values\n",
        "plt.plot(test_set, color='red', label = 'Real Stock Price')\n",
        "plt.plot(predicted_stock_price, color = 'blue', label = 'Predicted Stock Price')\n",
        "plt.title('Stock Price Prediction')\n",
        "plt.xlabel('Time')\n",
        "plt.ylabel('Stock Price')\n",
        "plt.legend()\n",
        "plt.show()"
      ],
      "metadata": {
        "colab": {
          "base_uri": "https://localhost:8080/",
          "height": 295
        },
        "id": "gEh6QiZ2vlNp",
        "outputId": "832cd078-4e28-4beb-e852-4653802ce33a"
      },
      "execution_count": null,
      "outputs": [
        {
          "output_type": "display_data",
          "data": {
            "text/plain": [
              "<Figure size 432x288 with 1 Axes>"
            ],
            "image/png": "[encoded data removed]"
          },
          "metadata": {
            "needs_background": "light"
          }
        }
      ]
    }
  ]
}